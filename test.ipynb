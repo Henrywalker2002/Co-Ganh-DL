{
 "cells": [
  {
   "cell_type": "code",
   "execution_count": 2,
   "metadata": {},
   "outputs": [],
   "source": [
    "import pandas as pd \n",
    "import numpy as np\n",
    "from tensorflow import keras"
   ]
  },
  {
   "cell_type": "code",
   "execution_count": 3,
   "metadata": {},
   "outputs": [
    {
     "name": "stdout",
     "output_type": "stream",
     "text": [
      "<_io.TextIOWrapper name='data.txt' mode='r' encoding='cp1252'>\n"
     ]
    }
   ],
   "source": [
    "#handle pre data \n",
    "f = open('data.txt', 'r')\n",
    "lst = []\n",
    "lst2 = []\n",
    "board = []\n",
    "count = 0\n",
    "sumCount = 0\n",
    "print(f)\n",
    "index = 0\n",
    "for line in f:\n",
    "    index += 1\n",
    "    arr = line.split()\n",
    "    if len(arr) != 5:\n",
    "        if len(arr) != 2:\n",
    "            print(index)\n",
    "        for i in range(sumCount):\n",
    "            lst2.append([int(x) for x in arr])\n",
    "        sumCount = 0\n",
    "        continue\n",
    "    board.append([int(x) for x in line.split()])\n",
    "    count += 1\n",
    "    if count == 5: \n",
    "        lst.append(board)\n",
    "        count = 0\n",
    "        board = []\n",
    "        sumCount += 1\n",
    "\n"
   ]
  },
  {
   "cell_type": "code",
   "execution_count": 4,
   "metadata": {},
   "outputs": [
    {
     "name": "stdout",
     "output_type": "stream",
     "text": [
      "12065 12065\n"
     ]
    }
   ],
   "source": [
    "# change y -1 to 0\n",
    "print(len(lst), len(lst2))\n",
    "for x in lst2:\n",
    "    if x[0] == -1:\n",
    "        x[0] = 0\n",
    "    if x[1] == -1:\n",
    "        x[1] = 0"
   ]
  },
  {
   "cell_type": "code",
   "execution_count": 5,
   "metadata": {},
   "outputs": [
    {
     "name": "stdout",
     "output_type": "stream",
     "text": [
      "(12065, 5, 5) (12065, 2)\n"
     ]
    }
   ],
   "source": [
    "trainData = np.array(lst)\n",
    "trainOut = np.array(lst2)\n",
    "\n",
    "print(trainData.shape, trainOut.shape)\n"
   ]
  },
  {
   "cell_type": "code",
   "execution_count": 6,
   "metadata": {},
   "outputs": [
    {
     "name": "stdout",
     "output_type": "stream",
     "text": [
      "(12065, 2) (12065, 5, 5)\n",
      "[[1 0]\n",
      " [1 0]\n",
      " [1 0]\n",
      " ...\n",
      " [0 1]\n",
      " [0 1]\n",
      " [0 1]]\n"
     ]
    }
   ],
   "source": [
    "print(trainOut.shape, trainData.shape)\n",
    "print(trainOut)"
   ]
  },
  {
   "cell_type": "code",
   "execution_count": 7,
   "metadata": {},
   "outputs": [],
   "source": [
    "from tensorflow.keras.layers import Dense\n",
    "from tensorflow.keras.models import Sequential\n",
    "from keras.layers.convolutional import Conv2D, MaxPooling2D,Conv1D, MaxPooling1D\n",
    "from keras.layers import Flatten, BatchNormalization"
   ]
  },
  {
   "cell_type": "code",
   "execution_count": 8,
   "metadata": {},
   "outputs": [],
   "source": [
    "model = Sequential()\n",
    "\n",
    "model.add(Conv2D(filters=5, kernel_size=1, activation='relu', input_shape= (5,5,1)))\n",
    "model.add(MaxPooling2D())\n",
    "model.add(Conv2D(filters=3, kernel_size=1, activation='relu'))\n",
    "model.add(Flatten())\n",
    "model.add(BatchNormalization())\n",
    "model.add(Dense(2, activation = \"softmax\"))\n",
    "\n",
    "model.compile(optimizer= 'adam', loss= 'mse', metrics= ['accuracy'])"
   ]
  },
  {
   "cell_type": "code",
   "execution_count": 9,
   "metadata": {},
   "outputs": [
    {
     "name": "stdout",
     "output_type": "stream",
     "text": [
      "Epoch 1/20\n",
      "378/378 [==============================] - 3s 3ms/step - loss: 0.2553 - accuracy: 0.5207\n",
      "Epoch 2/20\n",
      "378/378 [==============================] - 1s 3ms/step - loss: 0.2470 - accuracy: 0.5441\n",
      "Epoch 3/20\n",
      "378/378 [==============================] - 1s 3ms/step - loss: 0.2468 - accuracy: 0.5496\n",
      "Epoch 4/20\n",
      "378/378 [==============================] - 1s 3ms/step - loss: 0.2466 - accuracy: 0.5497\n",
      "Epoch 5/20\n",
      "378/378 [==============================] - 1s 3ms/step - loss: 0.2465 - accuracy: 0.5479\n",
      "Epoch 6/20\n",
      "378/378 [==============================] - 1s 3ms/step - loss: 0.2464 - accuracy: 0.5449\n",
      "Epoch 7/20\n",
      "378/378 [==============================] - 1s 3ms/step - loss: 0.2466 - accuracy: 0.5475\n",
      "Epoch 8/20\n",
      "378/378 [==============================] - 1s 3ms/step - loss: 0.2467 - accuracy: 0.5455\n",
      "Epoch 9/20\n",
      "378/378 [==============================] - 1s 3ms/step - loss: 0.2464 - accuracy: 0.5478\n",
      "Epoch 10/20\n",
      "378/378 [==============================] - 1s 3ms/step - loss: 0.2464 - accuracy: 0.5465\n",
      "Epoch 11/20\n",
      "378/378 [==============================] - 1s 3ms/step - loss: 0.2465 - accuracy: 0.5485\n",
      "Epoch 12/20\n",
      "378/378 [==============================] - 1s 3ms/step - loss: 0.2464 - accuracy: 0.5498\n",
      "Epoch 13/20\n",
      "378/378 [==============================] - 1s 3ms/step - loss: 0.2464 - accuracy: 0.5468\n",
      "Epoch 14/20\n",
      "378/378 [==============================] - 1s 3ms/step - loss: 0.2463 - accuracy: 0.5496\n",
      "Epoch 15/20\n",
      "378/378 [==============================] - 1s 3ms/step - loss: 0.2464 - accuracy: 0.5457\n",
      "Epoch 16/20\n",
      "378/378 [==============================] - 1s 3ms/step - loss: 0.2464 - accuracy: 0.5460\n",
      "Epoch 17/20\n",
      "378/378 [==============================] - 1s 3ms/step - loss: 0.2464 - accuracy: 0.5468\n",
      "Epoch 18/20\n",
      "378/378 [==============================] - 1s 3ms/step - loss: 0.2465 - accuracy: 0.5447\n",
      "Epoch 19/20\n",
      "378/378 [==============================] - 1s 3ms/step - loss: 0.2462 - accuracy: 0.5506\n",
      "Epoch 20/20\n",
      "378/378 [==============================] - 1s 3ms/step - loss: 0.2463 - accuracy: 0.5458\n"
     ]
    },
    {
     "data": {
      "text/plain": [
       "<keras.callbacks.History at 0x238263f9150>"
      ]
     },
     "execution_count": 9,
     "metadata": {},
     "output_type": "execute_result"
    }
   ],
   "source": [
    "#train data\n",
    "model.fit(trainData, trainOut, epochs= 20, batch_size= 32)"
   ]
  },
  {
   "cell_type": "code",
   "execution_count": 10,
   "metadata": {},
   "outputs": [
    {
     "name": "stdout",
     "output_type": "stream",
     "text": [
      "Model: \"sequential\"\n",
      "_________________________________________________________________\n",
      " Layer (type)                Output Shape              Param #   \n",
      "=================================================================\n",
      " conv2d (Conv2D)             (None, 5, 5, 5)           10        \n",
      "                                                                 \n",
      " max_pooling2d (MaxPooling2D  (None, 2, 2, 5)          0         \n",
      " )                                                               \n",
      "                                                                 \n",
      " conv2d_1 (Conv2D)           (None, 2, 2, 3)           18        \n",
      "                                                                 \n",
      " flatten (Flatten)           (None, 12)                0         \n",
      "                                                                 \n",
      " batch_normalization (BatchN  (None, 12)               48        \n",
      " ormalization)                                                   \n",
      "                                                                 \n",
      " dense (Dense)               (None, 2)                 26        \n",
      "                                                                 \n",
      "=================================================================\n",
      "Total params: 102\n",
      "Trainable params: 78\n",
      "Non-trainable params: 24\n",
      "_________________________________________________________________\n"
     ]
    }
   ],
   "source": [
    "model.summary()"
   ]
  },
  {
   "cell_type": "code",
   "execution_count": 11,
   "metadata": {},
   "outputs": [
    {
     "name": "stdout",
     "output_type": "stream",
     "text": [
      "(1, 5, 5, 1)\n",
      "1/1 [==============================] - 0s 154ms/step\n"
     ]
    },
    {
     "data": {
      "text/plain": [
       "array([[0.51657575, 0.48342425]], dtype=float32)"
      ]
     },
     "execution_count": 11,
     "metadata": {},
     "output_type": "execute_result"
    }
   ],
   "source": [
    "temp = np.expand_dims(trainData[60], 0)\n",
    "temp = np.expand_dims(temp, -1)\n",
    "print(temp.shape)\n",
    "model.predict(temp)"
   ]
  },
  {
   "cell_type": "code",
   "execution_count": 12,
   "metadata": {},
   "outputs": [],
   "source": [
    "model.save_weights('f2.h5')"
   ]
  }
 ],
 "metadata": {
  "kernelspec": {
   "display_name": "Python 3",
   "language": "python",
   "name": "python3"
  },
  "language_info": {
   "codemirror_mode": {
    "name": "ipython",
    "version": 3
   },
   "file_extension": ".py",
   "mimetype": "text/x-python",
   "name": "python",
   "nbconvert_exporter": "python",
   "pygments_lexer": "ipython3",
   "version": "3.10.9 (tags/v3.10.9:1dd9be6, Dec  6 2022, 20:01:21) [MSC v.1934 64 bit (AMD64)]"
  },
  "orig_nbformat": 4,
  "vscode": {
   "interpreter": {
    "hash": "a42ccb73e7d9bfdf27e036f1d2b8b681e55fc0743cc5586bc2474d4a60f4b886"
   }
  }
 },
 "nbformat": 4,
 "nbformat_minor": 2
}
